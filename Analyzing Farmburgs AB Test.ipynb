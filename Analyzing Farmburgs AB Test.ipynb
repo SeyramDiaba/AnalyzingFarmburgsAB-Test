{
 "cells": [
  {
   "cell_type": "markdown",
   "id": "12b07a8e",
   "metadata": {},
   "source": [
    "# Analyzing Farmburg's A/B Test\n",
    "Brian is a Product Manager at FarmBurg, a company that makes a farming simulation social network game. In the FarmBurg game, you can plow, plant, and harvest different crops. ​Brian has been conducting an A/B Test with three different variants, and he wants you to help him analyze the results. Using the Python modules pandas and SciPy, you will help him make some important business decisions!"
   ]
  },
  {
   "cell_type": "code",
   "execution_count": 36,
   "id": "33cf6dce",
   "metadata": {
    "scrolled": true
   },
   "outputs": [
    {
     "data": {
      "text/html": [
       "<div>\n",
       "<style scoped>\n",
       "    .dataframe tbody tr th:only-of-type {\n",
       "        vertical-align: middle;\n",
       "    }\n",
       "\n",
       "    .dataframe tbody tr th {\n",
       "        vertical-align: top;\n",
       "    }\n",
       "\n",
       "    .dataframe thead th {\n",
       "        text-align: right;\n",
       "    }\n",
       "</style>\n",
       "<table border=\"1\" class=\"dataframe\">\n",
       "  <thead>\n",
       "    <tr style=\"text-align: right;\">\n",
       "      <th></th>\n",
       "      <th>user_id</th>\n",
       "      <th>group</th>\n",
       "      <th>is_purchase</th>\n",
       "    </tr>\n",
       "  </thead>\n",
       "  <tbody>\n",
       "    <tr>\n",
       "      <th>0</th>\n",
       "      <td>8e27bf9a</td>\n",
       "      <td>A</td>\n",
       "      <td>No</td>\n",
       "    </tr>\n",
       "    <tr>\n",
       "      <th>1</th>\n",
       "      <td>eb89e6f0</td>\n",
       "      <td>A</td>\n",
       "      <td>No</td>\n",
       "    </tr>\n",
       "    <tr>\n",
       "      <th>2</th>\n",
       "      <td>7119106a</td>\n",
       "      <td>A</td>\n",
       "      <td>No</td>\n",
       "    </tr>\n",
       "    <tr>\n",
       "      <th>3</th>\n",
       "      <td>e53781ff</td>\n",
       "      <td>A</td>\n",
       "      <td>No</td>\n",
       "    </tr>\n",
       "    <tr>\n",
       "      <th>4</th>\n",
       "      <td>02d48cf1</td>\n",
       "      <td>A</td>\n",
       "      <td>Yes</td>\n",
       "    </tr>\n",
       "  </tbody>\n",
       "</table>\n",
       "</div>"
      ],
      "text/plain": [
       "    user_id group is_purchase\n",
       "0  8e27bf9a     A          No\n",
       "1  eb89e6f0     A          No\n",
       "2  7119106a     A          No\n",
       "3  e53781ff     A          No\n",
       "4  02d48cf1     A         Yes"
      ]
     },
     "execution_count": 36,
     "metadata": {},
     "output_type": "execute_result"
    }
   ],
   "source": [
    "# import modules\n",
    "import pandas as pd\n",
    "import numpy as np\n",
    "\n",
    "# Read 'click.csv' file as 'abdata' and inspect\n",
    "abdata = pd.read_csv('clicks.csv')\n",
    "abdata.head()"
   ]
  },
  {
   "cell_type": "markdown",
   "id": "c38c4713",
   "metadata": {},
   "source": [
    "## Contingency table for 'group' and 'is_purchase'"
   ]
  },
  {
   "cell_type": "code",
   "execution_count": 37,
   "id": "c56b89cc",
   "metadata": {},
   "outputs": [
    {
     "name": "stdout",
     "output_type": "stream",
     "text": [
      "is_purchase    No  Yes\n",
      "group                 \n",
      "A            1350  316\n",
      "B            1483  183\n",
      "C            1583   83\n"
     ]
    }
   ],
   "source": [
    "Xtab = pd.crosstab(abdata.group,abdata.is_purchase)\n",
    "print(Xtab)"
   ]
  },
  {
   "cell_type": "markdown",
   "id": "29876a97",
   "metadata": {},
   "source": [
    "## Perform Chi-Square test on contingency table"
   ]
  },
  {
   "cell_type": "code",
   "execution_count": 38,
   "id": "de4314b3",
   "metadata": {},
   "outputs": [
    {
     "name": "stdout",
     "output_type": "stream",
     "text": [
      "2.4126213546684264e-35\n"
     ]
    }
   ],
   "source": [
    "from scipy.stats import chi2_contingency\n",
    "chi2,pval,dof,expected = chi2_contingency(Xtab)\n",
    "print(pval)"
   ]
  },
  {
   "cell_type": "markdown",
   "id": "ad571563",
   "metadata": {},
   "source": [
    "### Number of visitors in the data and save the value in a variable named num_visits."
   ]
  },
  {
   "cell_type": "code",
   "execution_count": 39,
   "id": "df77173a",
   "metadata": {},
   "outputs": [
    {
     "name": "stdout",
     "output_type": "stream",
     "text": [
      "4998\n"
     ]
    }
   ],
   "source": [
    "num_visits = len(abdata.user_id)\n",
    "print(num_visits)"
   ]
  },
  {
   "cell_type": "code",
   "execution_count": 40,
   "id": "3f18b46c",
   "metadata": {},
   "outputs": [
    {
     "name": "stdout",
     "output_type": "stream",
     "text": [
      "0.20210104243717691\n"
     ]
    }
   ],
   "source": [
    "# Number of sales that would be needed to reach $1000\n",
    "num_sales_needed_099 = 1000/0.99\n",
    "\n",
    "# Proportion of weekly visitors who would need to make a purchase\n",
    "p_sales_needed_099 =  num_sales_needed_099/num_visits\n",
    "print(p_sales_needed_099)"
   ]
  },
  {
   "cell_type": "code",
   "execution_count": 41,
   "id": "ddff491e",
   "metadata": {},
   "outputs": [
    {
     "name": "stdout",
     "output_type": "stream",
     "text": [
      "0.10054272965467594\n"
     ]
    }
   ],
   "source": [
    "# Number of sales that would be needed to reach $1000\n",
    "num_sales_needed_199 = 1000/1.99\n",
    "# Proportion of weekly visitors who would need to make a purchase\n",
    "p_sales_needed_199 = num_sales_needed_199/num_visits\n",
    "print(p_sales_needed_199)"
   ]
  },
  {
   "cell_type": "code",
   "execution_count": 42,
   "id": "29aa3ab6",
   "metadata": {},
   "outputs": [
    {
     "name": "stdout",
     "output_type": "stream",
     "text": [
      "0.040096198800161346\n"
     ]
    }
   ],
   "source": [
    "# Number of sales that would be needed to reach $1000\n",
    "num_sales_needed_499 = 1000/4.99\n",
    "# Proportion of weekly visitors who would need to make a purchase\n",
    "p_sales_needed_499 = num_sales_needed_499/num_visits\n",
    "print(p_sales_needed_499)"
   ]
  },
  {
   "cell_type": "markdown",
   "id": "b5466a47",
   "metadata": {},
   "source": [
    "# Calculate sample size and sales for 0.99 price point\n"
   ]
  },
  {
   "cell_type": "code",
   "execution_count": 43,
   "id": "15d633e4",
   "metadata": {},
   "outputs": [
    {
     "name": "stdout",
     "output_type": "stream",
     "text": [
      "1666\n",
      "316\n"
     ]
    }
   ],
   "source": [
    "samp_size_099= np.sum(abdata.group == 'A')\n",
    "print(samp_size_099)\n",
    "\n",
    "sales_099 = np.sum((abdata.group == 'A') & (abdata.is_purchase == 'Yes'))\n",
    "print(sales_099)"
   ]
  },
  {
   "cell_type": "markdown",
   "id": "570128df",
   "metadata": {},
   "source": [
    "# Calculate sample size and sales for 1.99 price point\n"
   ]
  },
  {
   "cell_type": "code",
   "execution_count": 44,
   "id": "bc94ef6c",
   "metadata": {},
   "outputs": [
    {
     "name": "stdout",
     "output_type": "stream",
     "text": [
      "1666\n",
      "183\n"
     ]
    }
   ],
   "source": [
    "samp_size_199 = np.sum(abdata.group == 'B')\n",
    "print(samp_size_199)\n",
    "\n",
    "sales_199 = np.sum((abdata.group == 'B') & (abdata.is_purchase == 'Yes'))\n",
    "print(sales_199)"
   ]
  },
  {
   "cell_type": "markdown",
   "id": "7b5ebb9a",
   "metadata": {},
   "source": [
    "# Calculate sample size and sales for 4.99 price point"
   ]
  },
  {
   "cell_type": "code",
   "execution_count": 46,
   "id": "50fb92b8",
   "metadata": {},
   "outputs": [
    {
     "name": "stdout",
     "output_type": "stream",
     "text": [
      "1666\n",
      "83\n"
     ]
    }
   ],
   "source": [
    "samp_size_499 = np.sum(abdata.group == 'C')\n",
    "print(samp_size_499)\n",
    "\n",
    "sales_499 = np.sum((abdata.group == 'C') & (abdata.is_purchase == 'Yes'))\n",
    "print(sales_499)"
   ]
  },
  {
   "cell_type": "markdown",
   "id": "6500e522",
   "metadata": {},
   "source": [
    "## Perform binomial test'"
   ]
  },
  {
   "cell_type": "code",
   "execution_count": 47,
   "id": "4bf96ef5",
   "metadata": {},
   "outputs": [
    {
     "name": "stdout",
     "output_type": "stream",
     "text": [
      "0.9028081076188985\n"
     ]
    }
   ],
   "source": [
    "from scipy.stats import binom_test\n",
    "\n",
    "# pval A\n",
    "pvalueA = binom_test(sales_099,n=samp_size_099,p=p_sales_needed_099, alternative = 'greater')\n",
    "print(pvalueA)"
   ]
  },
  {
   "cell_type": "code",
   "execution_count": 48,
   "id": "602dd923",
   "metadata": {},
   "outputs": [
    {
     "name": "stdout",
     "output_type": "stream",
     "text": [
      "0.11184562623739903\n"
     ]
    }
   ],
   "source": [
    "# pval B\n",
    "pvalueB = binom_test(sales_199,n=samp_size_199,p=p_sales_needed_199, alternative = 'greater')\n",
    "print(pvalueB)"
   ]
  },
  {
   "cell_type": "code",
   "execution_count": 49,
   "id": "b443b51e",
   "metadata": {},
   "outputs": [
    {
     "name": "stdout",
     "output_type": "stream",
     "text": [
      "0.027944826659907135\n"
     ]
    }
   ],
   "source": [
    "# pval C\n",
    "pvalueC = binom_test(sales_499,n=samp_size_499,p=p_sales_needed_499, alternative = 'greater')\n",
    "print(pvalueC)"
   ]
  },
  {
   "cell_type": "markdown",
   "id": "5ba1da85",
   "metadata": {},
   "source": [
    "Group **C** is the only group where we would conclude that the purchase rate is significantly higher than the target needed to reach $1000 revenue per week."
   ]
  }
 ],
 "metadata": {
  "kernelspec": {
   "display_name": "Python 3",
   "language": "python",
   "name": "python3"
  },
  "language_info": {
   "codemirror_mode": {
    "name": "ipython",
    "version": 3
   },
   "file_extension": ".py",
   "mimetype": "text/x-python",
   "name": "python",
   "nbconvert_exporter": "python",
   "pygments_lexer": "ipython3",
   "version": "3.8.8"
  }
 },
 "nbformat": 4,
 "nbformat_minor": 5
}
